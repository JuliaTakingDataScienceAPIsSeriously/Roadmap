{
 "cells": [
  {
   "cell_type": "markdown",
   "metadata": {},
   "source": [
    "#  This is a demo of what the world could be, if we all played together nicely\n"
   ]
  },
  {
   "cell_type": "code",
   "execution_count": 9,
   "metadata": {},
   "outputs": [],
   "source": [
    "using ModelingBase\n",
    "using LIBLINEAR"
   ]
  },
  {
   "cell_type": "code",
   "execution_count": 25,
   "metadata": {},
   "outputs": [
    {
     "data": {
      "text/plain": [
       "classify (generic function with 2 methods)"
      ]
     },
     "execution_count": 25,
     "metadata": {},
     "output_type": "execute_result"
    }
   ],
   "source": [
    "classify(model, features) = classify(predict(model, features))\n",
    "classify(preds::Vector{<:Real}) = preds .> 0.5\n"
   ]
  },
  {
   "cell_type": "markdown",
   "metadata": {},
   "source": [
    "# Binary Classification"
   ]
  },
  {
   "cell_type": "code",
   "execution_count": 26,
   "metadata": {},
   "outputs": [
    {
     "data": {
      "text/plain": [
       "mk_binary_data (generic function with 1 method)"
      ]
     },
     "execution_count": 26,
     "metadata": {},
     "output_type": "execute_result"
    }
   ],
   "source": [
    "function mk_binary_data(num_obs)\n",
    "    features = rand(5, num_obs)\n",
    "    positives = sum(@view(features[1:3, :]).^2, 1)\n",
    "    negiatives = sum(@view(features[3:end, :]), 1)\n",
    "    noise = 0.2rand(num_obs)\n",
    "    labels = positives .- negiatives  .> 0\n",
    "    \n",
    "    features, vec(labels)\n",
    "end\n"
   ]
  },
  {
   "cell_type": "code",
   "execution_count": 27,
   "metadata": {},
   "outputs": [
    {
     "data": {
      "text/plain": [
       "([0.280848 0.0369744 … 0.237293 0.709233; 0.334754 0.770784 … 0.509929 0.238262; … ; 0.59193 0.362793 … 0.501827 0.969228; 0.021148 0.0207824 … 0.366652 0.653595], Bool[false, true, false, false, true, false, false, false, true, false  …  false, false, false, true, false, false, true, false, false, false])"
      ]
     },
     "execution_count": 27,
     "metadata": {},
     "output_type": "execute_result"
    }
   ],
   "source": [
    "b_train_features, b_train_labels = mk_binary_data(300)\n",
    "b_test_features, b_test_labels = mk_binary_data(100)"
   ]
  },
  {
   "cell_type": "code",
   "execution_count": 28,
   "metadata": {},
   "outputs": [
    {
     "data": {
      "text/plain": [
       "1-element Array{UnionAll,1}:\n",
       " LIBLINEAR.LinearModel"
      ]
     },
     "execution_count": 28,
     "metadata": {},
     "output_type": "execute_result"
    }
   ],
   "source": [
    "b_classifiers_constructors = [LinearModel]"
   ]
  },
  {
   "cell_type": "code",
   "execution_count": 30,
   "metadata": {},
   "outputs": [],
   "source": [
    "for ccon in b_classifiers_constructors\n",
    "    classifier = fit(ccon, b_train_features, b_train_labels)\n",
    "    probs = predict(classifier, b_test_features)\n",
    "    \n",
    "    output_classes = classify(classifier, b_test_features)\n",
    "end"
   ]
  },
  {
   "cell_type": "code",
   "execution_count": null,
   "metadata": {},
   "outputs": [],
   "source": []
  }
 ],
 "metadata": {
  "kernelspec": {
   "display_name": "Julia 0.6.2",
   "language": "julia",
   "name": "julia-0.6"
  },
  "language_info": {
   "file_extension": ".jl",
   "mimetype": "application/julia",
   "name": "julia",
   "version": "0.6.2"
  }
 },
 "nbformat": 4,
 "nbformat_minor": 2
}
