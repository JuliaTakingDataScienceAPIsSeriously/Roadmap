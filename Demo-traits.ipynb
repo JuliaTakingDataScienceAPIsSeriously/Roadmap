{
 "cells": [
  {
   "cell_type": "markdown",
   "metadata": {},
   "source": [
    "#  This is a demo of how automatic dimention permuting could be done, which could be deployed via traits, where the ML model specifies what form it wants it's inputs in"
   ]
  },
  {
   "cell_type": "code",
   "execution_count": 1,
   "metadata": {},
   "outputs": [],
   "source": [
    "using LearnBase\n",
    "using MLDataUtils"
   ]
  },
  {
   "cell_type": "code",
   "execution_count": 2,
   "metadata": {},
   "outputs": [],
   "source": [
    "using RDatasets\n",
    "iris = dataset(\"datasets\", \"iris\");"
   ]
  },
  {
   "cell_type": "code",
   "execution_count": 3,
   "metadata": {},
   "outputs": [
    {
     "data": {
      "text/plain": [
       "obsdim_input (generic function with 4 methods)"
      ]
     },
     "execution_count": 3,
     "metadata": {},
     "output_type": "execute_result"
    }
   ],
   "source": [
    "# ScikitLearnBase Setup\n",
    "using ScikitLearnBase\n",
    "obsdim_input(::Type{BaseClassifier}) = ObsDim.First()\n",
    "obsdim_input(::Type{BaseRegressor}) = ObsDim.First()\n",
    "obsdim_input(::Type{<:Any}) = ObsDim.Last()\n",
    "obsdim_input(model::T) where T= obsdim_input(T)"
   ]
  },
  {
   "cell_type": "code",
   "execution_count": 4,
   "metadata": {},
   "outputs": [],
   "source": [
    "# LearnBase enhancements\n",
    "using LearnBase: ObsDimension, default_obsdim\n",
    "import LearnBase: nobs\n",
    "#==\n",
    "\n",
    "Base.size(data, ::ObsDim.Constant{N}) where N = size(data, N)\n",
    "Base.size(data, ::ObsDim.Last) = size(data)[end]\n",
    "\n",
    "function LearnBase.nobs(data, obsdim::ObsDimension)\n",
    "    size(data, obsdim)\n",
    "end\n",
    "==#\n"
   ]
  },
  {
   "cell_type": "code",
   "execution_count": null,
   "metadata": {},
   "outputs": [],
   "source": []
  },
  {
   "cell_type": "code",
   "execution_count": 28,
   "metadata": {},
   "outputs": [
    {
     "data": {
      "text/plain": [
       "obvervation_vec (generic function with 4 methods)"
      ]
     },
     "execution_count": 28,
     "metadata": {},
     "output_type": "execute_result"
    }
   ],
   "source": [
    "determine_original_obsdim(data, ::ObsDim.Constant{N}) where N = ObsDim.Constant{N}()\n",
    "determine_original_obsdim(data, ::ObsDim.Last)= ObsDim.Constant{ndims(data)}()\n",
    "determine_original_obsdim(data, ::ObsDim.Undefined) = ObsDim.Undefined()\n",
    "function determine_original_obsdim(data, obsdim=default_obsdim(data))\n",
    "    determine_original_obsdim(data, convert(ObsDimension, obsdim))\n",
    "end\n",
    "\n",
    "determine_target_obsdim(::ObsDim.Last)= ObsDim.Constant{2}()\n",
    "determine_target_obsdim(obsdim)= convert(ObsDimension, obsdim)\n",
    "\n",
    "\n",
    "# initial\n",
    "\n",
    "function featurematrix(data)\n",
    "    featurematrix(ObsDim.Last(), data, default_obsdim(data))\n",
    "end\n",
    "\n",
    "\n",
    "function featurematrix(data, original_obsdim::ObsDimension) \n",
    "    featurematrix(ObsDim.Last(), data, original_obsdim)\n",
    "end\n",
    "\n",
    "\n",
    "function featurematrix(target_obsdim::ObsDimension, data) \n",
    "    featurematrix(target_obsdim, data, default_obsdim(data))\n",
    "end\n",
    "\n",
    "# Main entrance function\n",
    "function featurematrix(target_obsdim, data, original_obsdim)\n",
    "    _featurematrix(\n",
    "        determine_target_obsdim(target_obsdim),\n",
    "        data,\n",
    "        determine_original_obsdim(data, original_obsdim)\n",
    "    )\n",
    "end\n",
    "\n",
    "##############\n",
    "# Matrixes\n",
    "\n",
    "function _featurematrix( # equal\n",
    "            target_obsdim::ObsDim.Constant{N}, \n",
    "            data::AbstractMatrix,\n",
    "            original_obsdim::ObsDim.Constant{N}) where N\n",
    "    data\n",
    "end\n",
    "\n",
    "function _featurematrix( # Not equal\n",
    "            target_obsdim::ObsDim.Constant{N}, \n",
    "            data::AbstractMatrix,\n",
    "            original_obsdim::ObsDim.Constant{M}) where {N, M}\n",
    "    permutedims(data, (2,1))\n",
    "end\n",
    "\n",
    "##############\n",
    "# Vector\n",
    "\n",
    "function _featurematrix( # equal\n",
    "            target_obsdim::ObsDim.Constant{1}, \n",
    "            data::AbstractVector,\n",
    "            original_obsdim::ObsDimension)\n",
    "    data\n",
    "end\n",
    "\n",
    "function _featurematrix( # equal\n",
    "            target_obsdim::ObsDim.Constant{2}, \n",
    "            data::AbstractVector,\n",
    "            original_obsdim::ObsDimension)\n",
    "    reshape(data, (:,1))\n",
    "end\n",
    "\n",
    "###########################\n",
    "# DataFrames\n",
    "\n",
    "function _featurematrix(target_obsdim::ObsDimension, data::AbstractDataFrame, original_obsdim::ObsDim.Undefined)\n",
    "    featurematrix(target_obsdim, convert(Matrix, data), ObsDim.First())\n",
    "end\n",
    "\n",
    "\n",
    "\n",
    "\n",
    "###############################\n",
    "# Fallback\n",
    "# It would be nice to optimize this to be almost nonallocating when `get_obs!` is defined\n",
    "\n",
    "function _featurematrix(target_obsdim::ObsDimension, data, original_obsdim::ObsDimension)\n",
    "   __featurematrix(target_obsdim, data, original_obsdim)\n",
    "end\n",
    "\n",
    "function __featurematrix(target_obsdim::ObsDim.Constant{1}, data, original_obsdim::ObsDimension)\n",
    "    ret = Matrix(\n",
    "        nobs(data, original_obsdim),\n",
    "        nfeatures(data, original_obsdim)\n",
    "    )\n",
    "    for (ii, obs) in enumerate(eachobs(data, original_obsdim))\n",
    "        ret[ii, :] .= obvervation_vec(obs)\n",
    "    end\n",
    "    ret\n",
    "end\n",
    "\n",
    "function __featurematrix(target_obsdim::ObsDim.Constant{2}, data, original_obsdim::ObsDimension)\n",
    "    ret = Matrix(\n",
    "        nfeatures(data, original_obsdim),\n",
    "        nobs(data, original_obsdim)\n",
    "    )\n",
    "    for (ii, obs) in enumerate(eachobs(data, original_obsdim))\n",
    "        ret[:, ii] .= obvervation_vec(obs)\n",
    "    end\n",
    "    ret\n",
    "end\n",
    "\n",
    "nfeatures(data, obsdim) = length(obvervation_vec(first(eachobs(data, obsdim))))\n",
    "\n",
    "obvervation_vec(data::AbstractVector) = data\n",
    "obvervation_vec(data::AbstractArray) = reshape(data, :)\n",
    "obvervation_vec(data::Tuple) = vcat(map(obvervation_vec, data)...)\n",
    "obvervation_vec(data) = obvervation_vec(collect(data))"
   ]
  },
  {
   "cell_type": "code",
   "execution_count": 29,
   "metadata": {},
   "outputs": [
    {
     "data": {
      "text/plain": [
       "150×5 Array{Any,2}:\n",
       " 5.1  3.5  1.4  0.2  \"setosa\"   \n",
       " 4.9  3.0  1.4  0.2  \"setosa\"   \n",
       " 4.7  3.2  1.3  0.2  \"setosa\"   \n",
       " 4.6  3.1  1.5  0.2  \"setosa\"   \n",
       " 5.0  3.6  1.4  0.2  \"setosa\"   \n",
       " 5.4  3.9  1.7  0.4  \"setosa\"   \n",
       " 4.6  3.4  1.4  0.3  \"setosa\"   \n",
       " 5.0  3.4  1.5  0.2  \"setosa\"   \n",
       " 4.4  2.9  1.4  0.2  \"setosa\"   \n",
       " 4.9  3.1  1.5  0.1  \"setosa\"   \n",
       " 5.4  3.7  1.5  0.2  \"setosa\"   \n",
       " 4.8  3.4  1.6  0.2  \"setosa\"   \n",
       " 4.8  3.0  1.4  0.1  \"setosa\"   \n",
       " ⋮                              \n",
       " 6.0  3.0  4.8  1.8  \"virginica\"\n",
       " 6.9  3.1  5.4  2.1  \"virginica\"\n",
       " 6.7  3.1  5.6  2.4  \"virginica\"\n",
       " 6.9  3.1  5.1  2.3  \"virginica\"\n",
       " 5.8  2.7  5.1  1.9  \"virginica\"\n",
       " 6.8  3.2  5.9  2.3  \"virginica\"\n",
       " 6.7  3.3  5.7  2.5  \"virginica\"\n",
       " 6.7  3.0  5.2  2.3  \"virginica\"\n",
       " 6.3  2.5  5.0  1.9  \"virginica\"\n",
       " 6.5  3.0  5.2  2.0  \"virginica\"\n",
       " 6.2  3.4  5.4  2.3  \"virginica\"\n",
       " 5.9  3.0  5.1  1.8  \"virginica\""
      ]
     },
     "execution_count": 29,
     "metadata": {},
     "output_type": "execute_result"
    }
   ],
   "source": [
    "featurematrix(ObsDim.First(), iris)"
   ]
  },
  {
   "cell_type": "code",
   "execution_count": 30,
   "metadata": {},
   "outputs": [
    {
     "data": {
      "text/plain": [
       "5×150 Array{Any,2}:\n",
       " 5.1        4.9        4.7        4.6        …  6.2           5.9         \n",
       " 3.5        3.0        3.2        3.1           3.4           3.0         \n",
       " 1.4        1.4        1.3        1.5           5.4           5.1         \n",
       " 0.2        0.2        0.2        0.2           2.3           1.8         \n",
       "  \"setosa\"   \"setosa\"   \"setosa\"   \"setosa\"      \"virginica\"   \"virginica\""
      ]
     },
     "execution_count": 30,
     "metadata": {},
     "output_type": "execute_result"
    }
   ],
   "source": [
    "featurematrix(ObsDim.Last(), iris)"
   ]
  },
  {
   "cell_type": "code",
   "execution_count": null,
   "metadata": {},
   "outputs": [],
   "source": []
  },
  {
   "cell_type": "code",
   "execution_count": 31,
   "metadata": {},
   "outputs": [
    {
     "data": {
      "text/plain": [
       "3×4 Array{Int64,2}:\n",
       "   1    2    3    4\n",
       "  10   20   30   40\n",
       " 100  200  300  400"
      ]
     },
     "execution_count": 31,
     "metadata": {},
     "output_type": "execute_result"
    }
   ],
   "source": [
    "eg = [1  2 3  4; 10 20 30 40; 100 200 300 400]"
   ]
  },
  {
   "cell_type": "code",
   "execution_count": 32,
   "metadata": {},
   "outputs": [
    {
     "data": {
      "text/plain": [
       "3×4 Array{Int64,2}:\n",
       "   1    2    3    4\n",
       "  10   20   30   40\n",
       " 100  200  300  400"
      ]
     },
     "execution_count": 32,
     "metadata": {},
     "output_type": "execute_result"
    }
   ],
   "source": [
    "featurematrix(eg)"
   ]
  },
  {
   "cell_type": "code",
   "execution_count": 33,
   "metadata": {},
   "outputs": [
    {
     "data": {
      "text/plain": [
       "4×3 Array{Int64,2}:\n",
       " 1  10  100\n",
       " 2  20  200\n",
       " 3  30  300\n",
       " 4  40  400"
      ]
     },
     "execution_count": 33,
     "metadata": {},
     "output_type": "execute_result"
    }
   ],
   "source": [
    "featurematrix(ObsDim.Last(), eg, ObsDim.First())"
   ]
  },
  {
   "cell_type": "code",
   "execution_count": 34,
   "metadata": {},
   "outputs": [
    {
     "data": {
      "text/plain": [
       "3×4 Array{Int64,2}:\n",
       "   1    2    3    4\n",
       "  10   20   30   40\n",
       " 100  200  300  400"
      ]
     },
     "execution_count": 34,
     "metadata": {},
     "output_type": "execute_result"
    }
   ],
   "source": [
    "featurematrix(ObsDim.Last(), eg, ObsDim.Last())"
   ]
  },
  {
   "cell_type": "code",
   "execution_count": 35,
   "metadata": {},
   "outputs": [
    {
     "data": {
      "text/plain": [
       "3×4 Array{Int64,2}:\n",
       "   1    2    3    4\n",
       "  10   20   30   40\n",
       " 100  200  300  400"
      ]
     },
     "execution_count": 35,
     "metadata": {},
     "output_type": "execute_result"
    }
   ],
   "source": [
    "featurematrix(ObsDim.First(), eg, ObsDim.First())"
   ]
  },
  {
   "cell_type": "code",
   "execution_count": 36,
   "metadata": {},
   "outputs": [
    {
     "data": {
      "text/plain": [
       "4×3 Array{Int64,2}:\n",
       " 1  10  100\n",
       " 2  20  200\n",
       " 3  30  300\n",
       " 4  40  400"
      ]
     },
     "execution_count": 36,
     "metadata": {},
     "output_type": "execute_result"
    }
   ],
   "source": [
    "featurematrix(ObsDim.First(), eg, ObsDim.Last())"
   ]
  },
  {
   "cell_type": "code",
   "execution_count": 37,
   "metadata": {},
   "outputs": [
    {
     "data": {
      "text/plain": [
       "20×6 Array{Any,2}:\n",
       " 0.227989   0.505699   0.424723   0.327435   0.612894   0.356281  \n",
       " 0.390235   0.415833   0.897752   0.910352   0.965416   0.779816  \n",
       " 0.0860939  0.866595   0.485977   0.281331   0.879453   0.810118  \n",
       " 0.127175   0.774614   0.128959   0.754678   0.59757    0.67359   \n",
       " 0.0672949  0.89673    0.99192    0.133552   0.617958   0.0156535 \n",
       " 0.304675   0.0934629  0.872009   0.882632   0.299851   0.867351  \n",
       " 0.717214   0.99343    0.941644   0.437871   0.811396   0.00838708\n",
       " 0.631362   0.130609   0.791254   0.999651   0.941787   0.530463  \n",
       " 0.345969   0.345719   0.0184813  0.841615   0.210566   0.112985  \n",
       " 0.600528   0.417667   0.680704   0.491169   0.0477976  0.181161  \n",
       " 0.248144   0.215063   0.327152   0.909832   0.960823   0.287004  \n",
       " 0.861411   0.631855   0.731211   0.0812935  0.452861   0.603714  \n",
       " 0.851714   0.861341   0.71142    0.629378   0.65642    0.342981  \n",
       " 0.972597   0.712864   0.177017   0.404287   0.0408084  0.382202  \n",
       " 0.183036   0.415246   0.6244     0.692272   0.488028   0.474492  \n",
       " 0.229178   0.0824863  0.839007   0.0752563  0.650395   0.529209  \n",
       " 0.20632    0.244778   0.444133   0.541844   0.416384   0.528205  \n",
       " 0.222659   0.179566   0.541307   0.149063   0.0975929  0.119478  \n",
       " 0.304627   0.535674   0.601548   0.274472   0.891248   0.608923  \n",
       " 0.739934   0.0148832  0.526879   0.996594   0.787226   0.526918  "
      ]
     },
     "execution_count": 37,
     "metadata": {},
     "output_type": "execute_result"
    }
   ],
   "source": [
    "featurematrix(rand(4,5,6))"
   ]
  },
  {
   "cell_type": "code",
   "execution_count": 39,
   "metadata": {},
   "outputs": [
    {
     "ename": "LoadError",
     "evalue": "\u001b[91mMethodError: no method matching permutedims(::Array{String,1})\u001b[0m\nClosest candidates are:\n  permutedims(::Union{Base.ReshapedArray{T,N,A,MI} where MI<:Tuple{Vararg{Base.MultiplicativeInverses.SignedMultiplicativeInverse{Int64},N} where N} where A<:Union{DenseArray, SubArray{T,N,P,I,true} where I<:Tuple{Union{Base.Slice, UnitRange},Vararg{Any,N} where N} where P where N where T}, DenseArray{T,N}, SubArray{T,N,A,I,L} where L} where I<:Tuple{Vararg{Union{Base.AbstractCartesianIndex, Int64, Range{Int64}},N} where N} where A<:Union{Base.ReshapedArray{T,N,A,MI} where MI<:Tuple{Vararg{Base.MultiplicativeInverses.SignedMultiplicativeInverse{Int64},N} where N} where A<:Union{DenseArray, SubArray{T,N,P,I,true} where I<:Tuple{Union{Base.Slice, UnitRange},Vararg{Any,N} where N} where P where N where T} where N where T, DenseArray} where N where T, \u001b[91m::Any\u001b[39m) at multidimensional.jl:1292\n  permutedims(::AbstractArray, \u001b[91m::Any\u001b[39m) at permuteddimsarray.jl:116\u001b[39m",
     "output_type": "error",
     "traceback": [
      "\u001b[91mMethodError: no method matching permutedims(::Array{String,1})\u001b[0m\nClosest candidates are:\n  permutedims(::Union{Base.ReshapedArray{T,N,A,MI} where MI<:Tuple{Vararg{Base.MultiplicativeInverses.SignedMultiplicativeInverse{Int64},N} where N} where A<:Union{DenseArray, SubArray{T,N,P,I,true} where I<:Tuple{Union{Base.Slice, UnitRange},Vararg{Any,N} where N} where P where N where T}, DenseArray{T,N}, SubArray{T,N,A,I,L} where L} where I<:Tuple{Vararg{Union{Base.AbstractCartesianIndex, Int64, Range{Int64}},N} where N} where A<:Union{Base.ReshapedArray{T,N,A,MI} where MI<:Tuple{Vararg{Base.MultiplicativeInverses.SignedMultiplicativeInverse{Int64},N} where N} where A<:Union{DenseArray, SubArray{T,N,P,I,true} where I<:Tuple{Union{Base.Slice, UnitRange},Vararg{Any,N} where N} where P where N where T} where N where T, DenseArray} where N where T, \u001b[91m::Any\u001b[39m) at multidimensional.jl:1292\n  permutedims(::AbstractArray, \u001b[91m::Any\u001b[39m) at permuteddimsarray.jl:116\u001b[39m",
      ""
     ]
    }
   ],
   "source": [
    "permutedims([\"asd\", \"bsd\"])"
   ]
  },
  {
   "cell_type": "code",
   "execution_count": null,
   "metadata": {},
   "outputs": [],
   "source": []
  }
 ],
 "metadata": {
  "kernelspec": {
   "display_name": "Julia 0.6.2",
   "language": "julia",
   "name": "julia-0.6"
  },
  "language_info": {
   "file_extension": ".jl",
   "mimetype": "application/julia",
   "name": "julia",
   "version": "0.6.2"
  }
 },
 "nbformat": 4,
 "nbformat_minor": 2
}
