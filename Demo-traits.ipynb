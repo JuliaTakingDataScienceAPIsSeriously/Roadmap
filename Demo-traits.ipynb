{
 "cells": [
  {
   "cell_type": "markdown",
   "metadata": {},
   "source": [
    "#  This is a demo of what the world could be, if we all played together nicely\n"
   ]
  },
  {
   "cell_type": "code",
   "execution_count": 1,
   "metadata": {},
   "outputs": [],
   "source": [
    "using LearnBase\n",
    "using MLDataUtils"
   ]
  },
  {
   "cell_type": "code",
   "execution_count": 2,
   "metadata": {},
   "outputs": [],
   "source": [
    "using RDatasets\n",
    "iris = dataset(\"datasets\", \"iris\");"
   ]
  },
  {
   "cell_type": "code",
   "execution_count": 3,
   "metadata": {},
   "outputs": [
    {
     "data": {
      "text/plain": [
       "obsdim_input (generic function with 4 methods)"
      ]
     },
     "execution_count": 3,
     "metadata": {},
     "output_type": "execute_result"
    }
   ],
   "source": [
    "# ScikitLearnBase Setup\n",
    "using ScikitLearnBase\n",
    "obsdim_input(::Type{BaseClassifier}) = ObsDim.First()\n",
    "obsdim_input(::Type{BaseRegressor}) = ObsDim.First()\n",
    "obsdim_input(::Type{<:Any}) = ObsDim.Last()\n",
    "obsdim_input(model::T) where T= obsdim_input(T)"
   ]
  },
  {
   "cell_type": "code",
   "execution_count": 4,
   "metadata": {},
   "outputs": [],
   "source": [
    "# LearnBase enhancements\n",
    "using LearnBase: ObsDimension, default_obsdim\n",
    "import LearnBase: nobs\n",
    "#==\n",
    "\n",
    "Base.size(data, ::ObsDim.Constant{N}) where N = size(data, N)\n",
    "Base.size(data, ::ObsDim.Last) = size(data)[end]\n",
    "\n",
    "function LearnBase.nobs(data, obsdim::ObsDimension)\n",
    "    size(data, obsdim)\n",
    "end\n",
    "==#\n"
   ]
  },
  {
   "cell_type": "code",
   "execution_count": null,
   "metadata": {},
   "outputs": [],
   "source": []
  },
  {
   "cell_type": "code",
   "execution_count": 14,
   "metadata": {},
   "outputs": [
    {
     "data": {
      "text/plain": [
       "obvervation_vec (generic function with 4 methods)"
      ]
     },
     "execution_count": 14,
     "metadata": {},
     "output_type": "execute_result"
    }
   ],
   "source": [
    "determine_original_obsdim(data, ::ObsDim.Constant{N}) where N = ObsDim.Constant{N}()\n",
    "determine_original_obsdim(data, ::ObsDim.Last)= ObsDim.Constant{ndims(data)}()\n",
    "determine_original_obsdim(data, ::ObsDim.Undefined) = ObsDim.Undefined()\n",
    "function determine_original_obsdim(data, obsdim=default_obsdim(data))\n",
    "    determine_original_obsdim(data, convert(ObsDimension, obsdim))\n",
    "end\n",
    "\n",
    "determine_target_obsdim(::ObsDim.Last)= ObsDim.Constant{2}()\n",
    "determine_target_obsdim(obsdim)= convert(ObsDimension, obsdim)\n",
    "\n",
    "\n",
    "# initial\n",
    "\n",
    "function featurematrix(data)\n",
    "    featurematrix(ObsDim.Last(), data, default_obsdim(data))\n",
    "end\n",
    "\n",
    "\n",
    "function featurematrix(data, original_obsdim::ObsDimension) \n",
    "    featurematrix(ObsDim.Last(), data, original_obsdim)\n",
    "end\n",
    "\n",
    "\n",
    "function featurematrix(target_obsdim::ObsDimension, data) \n",
    "    featurematrix(target_obsdim, data, default_obsdim(data))\n",
    "end\n",
    "\n",
    "# Main entrance function\n",
    "function featurematrix(target_obsdim, data, original_obsdim)\n",
    "    _featurematrix(\n",
    "        determine_target_obsdim(target_obsdim),\n",
    "        data,\n",
    "        determine_original_obsdim(data, original_obsdim)\n",
    "    )\n",
    "end\n",
    "\n",
    "##############\n",
    "# Matrixes\n",
    "\n",
    "function _featurematrix( # equal\n",
    "            target_obsdim::ObsDim.Constant{N}, \n",
    "            data::AbstractMatrix,\n",
    "            original_obsdim::ObsDim.Constant{N}) where N\n",
    "    data\n",
    "end\n",
    "\n",
    "function _featurematrix( # Not equal\n",
    "            target_obsdim::ObsDim.Constant{N}, \n",
    "            data::AbstractMatrix,\n",
    "            original_obsdim::ObsDim.Constant{M}) where {N, M}\n",
    "    permutedims(data, (2,1))\n",
    "end\n",
    "\n",
    "##############\n",
    "# Vector\n",
    "\n",
    "function _featurematrix( # equal\n",
    "            target_obsdim::ObsDim.Constant{1}, \n",
    "            data::AbstractVector,\n",
    "            original_obsdim::ObsDimension)\n",
    "    data\n",
    "end\n",
    "\n",
    "function _featurematrix( # equal\n",
    "            target_obsdim::ObsDim.Constant{2}, \n",
    "            data::AbstractVector,\n",
    "            original_obsdim::ObsDimension)\n",
    "    reshape(data, (:,1))\n",
    "end\n",
    "\n",
    "###########################\n",
    "# DataFrames\n",
    "\n",
    "function _featurematrix(target_obsdim::ObsDimension, data::AbstractDataFrame, original_obsdim::ObsDim.Undefined)\n",
    "    featurematrix(target_obsdim, convert(Matrix, data), ObsDim.First())\n",
    "end\n",
    "\n",
    "\n",
    "\n",
    "\n",
    "###############################\n",
    "# Fallback\n",
    "# It would be nice to optimize this to be almost nonallocating when `get_obs!` is defined\n",
    "\n",
    "function _featurematrix(target_obsdim::ObsDimension, data, original_obsdim::ObsDimension)\n",
    "   __featurematrix(target_obsdim, data, original_obsdim)\n",
    "end\n",
    "\n",
    "function __featurematrix(target_obsdim::ObsDim.Constant{1}, data, original_obsdim::ObsDimension)\n",
    "    ret = Matrix(\n",
    "        nobs(data, original_obsdim),\n",
    "        nfeatures(data, obsdim)\n",
    "    )\n",
    "    for (ii, obs) in enumerate(eachobs(data, original_obsdim))\n",
    "        ret[ii, :] .= obvervation_vec(obs)\n",
    "    end\n",
    "    ret\n",
    "end\n",
    "\n",
    "function __featurematrix(target_obsdim::ObsDim.Constant{2}, data, original_obsdim::ObsDimension)\n",
    "    ret = Matrix(\n",
    "        nfeatures(data, obsdim),\n",
    "        nobs(data, original_obsdim)\n",
    "    )\n",
    "    for (ii, obs) in enumerate(eachobs(data, original_obsdim))\n",
    "        ret[:, ii] .= obvervation_vec(obs)\n",
    "    end\n",
    "    ret\n",
    "end\n",
    "\n",
    "nfeatures(data, obsdim) = length(obvervation_vec(first(eachobs(data, obsdim))))\n",
    "\n",
    "obvervation_vec(data::AbstractVector) = data\n",
    "obvervation_vec(data::AbstractArray) = reshape(data, :)\n",
    "obvervation_vec(data::Tuple) = vcat(map(obvervation_vec, data)...)\n",
    "obvervation_vec(data) = obvervation_vec(collect(data))"
   ]
  },
  {
   "cell_type": "code",
   "execution_count": 15,
   "metadata": {},
   "outputs": [
    {
     "data": {
      "text/plain": [
       "150×5 Array{Any,2}:\n",
       " 5.1  3.5  1.4  0.2  \"setosa\"   \n",
       " 4.9  3.0  1.4  0.2  \"setosa\"   \n",
       " 4.7  3.2  1.3  0.2  \"setosa\"   \n",
       " 4.6  3.1  1.5  0.2  \"setosa\"   \n",
       " 5.0  3.6  1.4  0.2  \"setosa\"   \n",
       " 5.4  3.9  1.7  0.4  \"setosa\"   \n",
       " 4.6  3.4  1.4  0.3  \"setosa\"   \n",
       " 5.0  3.4  1.5  0.2  \"setosa\"   \n",
       " 4.4  2.9  1.4  0.2  \"setosa\"   \n",
       " 4.9  3.1  1.5  0.1  \"setosa\"   \n",
       " 5.4  3.7  1.5  0.2  \"setosa\"   \n",
       " 4.8  3.4  1.6  0.2  \"setosa\"   \n",
       " 4.8  3.0  1.4  0.1  \"setosa\"   \n",
       " ⋮                              \n",
       " 6.0  3.0  4.8  1.8  \"virginica\"\n",
       " 6.9  3.1  5.4  2.1  \"virginica\"\n",
       " 6.7  3.1  5.6  2.4  \"virginica\"\n",
       " 6.9  3.1  5.1  2.3  \"virginica\"\n",
       " 5.8  2.7  5.1  1.9  \"virginica\"\n",
       " 6.8  3.2  5.9  2.3  \"virginica\"\n",
       " 6.7  3.3  5.7  2.5  \"virginica\"\n",
       " 6.7  3.0  5.2  2.3  \"virginica\"\n",
       " 6.3  2.5  5.0  1.9  \"virginica\"\n",
       " 6.5  3.0  5.2  2.0  \"virginica\"\n",
       " 6.2  3.4  5.4  2.3  \"virginica\"\n",
       " 5.9  3.0  5.1  1.8  \"virginica\""
      ]
     },
     "execution_count": 15,
     "metadata": {},
     "output_type": "execute_result"
    }
   ],
   "source": [
    "featurematrix(ObsDim.First(), iris)"
   ]
  },
  {
   "cell_type": "code",
   "execution_count": 19,
   "metadata": {},
   "outputs": [
    {
     "data": {
      "text/plain": [
       "5×150 Array{Any,2}:\n",
       " 5.1        4.9        4.7        4.6        …  6.2           5.9         \n",
       " 3.5        3.0        3.2        3.1           3.4           3.0         \n",
       " 1.4        1.4        1.3        1.5           5.4           5.1         \n",
       " 0.2        0.2        0.2        0.2           2.3           1.8         \n",
       "  \"setosa\"   \"setosa\"   \"setosa\"   \"setosa\"      \"virginica\"   \"virginica\""
      ]
     },
     "execution_count": 19,
     "metadata": {},
     "output_type": "execute_result"
    }
   ],
   "source": [
    "featurematrix(ObsDim.Last(), iris)"
   ]
  },
  {
   "cell_type": "code",
   "execution_count": null,
   "metadata": {},
   "outputs": [],
   "source": []
  },
  {
   "cell_type": "code",
   "execution_count": 21,
   "metadata": {},
   "outputs": [
    {
     "data": {
      "text/plain": [
       "3×4 Array{Int64,2}:\n",
       "   1    2    3    4\n",
       "  10   20   30   40\n",
       " 100  200  300  400"
      ]
     },
     "execution_count": 21,
     "metadata": {},
     "output_type": "execute_result"
    }
   ],
   "source": [
    "eg = [1  2 3  4; 10 20 30 40; 100 200 300 400]"
   ]
  },
  {
   "cell_type": "code",
   "execution_count": 22,
   "metadata": {},
   "outputs": [
    {
     "data": {
      "text/plain": [
       "3×4 Array{Int64,2}:\n",
       "   1    2    3    4\n",
       "  10   20   30   40\n",
       " 100  200  300  400"
      ]
     },
     "execution_count": 22,
     "metadata": {},
     "output_type": "execute_result"
    }
   ],
   "source": [
    "featurematrix(eg)"
   ]
  },
  {
   "cell_type": "code",
   "execution_count": 23,
   "metadata": {},
   "outputs": [
    {
     "data": {
      "text/plain": [
       "4×3 Array{Int64,2}:\n",
       " 1  10  100\n",
       " 2  20  200\n",
       " 3  30  300\n",
       " 4  40  400"
      ]
     },
     "execution_count": 23,
     "metadata": {},
     "output_type": "execute_result"
    }
   ],
   "source": [
    "featurematrix(ObsDim.Last(), eg, ObsDim.First())"
   ]
  },
  {
   "cell_type": "code",
   "execution_count": 24,
   "metadata": {},
   "outputs": [
    {
     "data": {
      "text/plain": [
       "3×4 Array{Int64,2}:\n",
       "   1    2    3    4\n",
       "  10   20   30   40\n",
       " 100  200  300  400"
      ]
     },
     "execution_count": 24,
     "metadata": {},
     "output_type": "execute_result"
    }
   ],
   "source": [
    "featurematrix(ObsDim.Last(), eg, ObsDim.Last())"
   ]
  },
  {
   "cell_type": "code",
   "execution_count": 25,
   "metadata": {},
   "outputs": [
    {
     "data": {
      "text/plain": [
       "3×4 Array{Int64,2}:\n",
       "   1    2    3    4\n",
       "  10   20   30   40\n",
       " 100  200  300  400"
      ]
     },
     "execution_count": 25,
     "metadata": {},
     "output_type": "execute_result"
    }
   ],
   "source": [
    "featurematrix(ObsDim.First(), eg, ObsDim.First())"
   ]
  },
  {
   "cell_type": "code",
   "execution_count": 26,
   "metadata": {},
   "outputs": [
    {
     "data": {
      "text/plain": [
       "4×3 Array{Int64,2}:\n",
       " 1  10  100\n",
       " 2  20  200\n",
       " 3  30  300\n",
       " 4  40  400"
      ]
     },
     "execution_count": 26,
     "metadata": {},
     "output_type": "execute_result"
    }
   ],
   "source": [
    "featurematrix(ObsDim.First(), eg, ObsDim.Last())"
   ]
  },
  {
   "cell_type": "code",
   "execution_count": null,
   "metadata": {},
   "outputs": [],
   "source": []
  }
 ],
 "metadata": {
  "kernelspec": {
   "display_name": "Julia 0.6.2",
   "language": "julia",
   "name": "julia-0.6"
  },
  "language_info": {
   "file_extension": ".jl",
   "mimetype": "application/julia",
   "name": "julia",
   "version": "0.6.2"
  }
 },
 "nbformat": 4,
 "nbformat_minor": 2
}
