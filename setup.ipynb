{
 "cells": [
  {
   "cell_type": "code",
   "execution_count": null,
   "metadata": {},
   "outputs": [],
   "source": []
  },
  {
   "cell_type": "code",
   "execution_count": 3,
   "metadata": {},
   "outputs": [
    {
     "data": {
      "text/plain": [
       "setup (generic function with 2 methods)"
      ]
     },
     "execution_count": 3,
     "metadata": {},
     "output_type": "execute_result"
    }
   ],
   "source": [
    "function tryto(f)\n",
    "    try\n",
    "        f()    \n",
    "    catch e\n",
    "        warn(e)\n",
    "        info(\"Shi'llbe right, mate\")\n",
    "    end\n",
    "end\n",
    "\n",
    "function manual_clone(pkg)\n",
    "    run(`git clone git@github.com:JuliaTakingFittingAPIsSeriously/$(pkg).jl.git`, Pkg.dir(pkg))\n",
    "    tryto() do\n",
    "        symlink(Pkg.dir(pkg), pkg) # Symlink it here for conviencent\n",
    "    end\n",
    "end\n",
    "\n",
    "\n",
    "function setup(pkg, rm_existing=false)\n",
    "    if Pkg.installed(pkg) === nothing\n",
    "        Pkg.add(pkg)\n",
    "    end\n",
    "    cd(Pkg.dir(pkg)) do\n",
    "        tryto() do\n",
    "            run(`git remote add seriously \"git@github.com:JuliaTakingFittingAPIsSeriously/$(pkg).jl.git\"`)\n",
    "            run(`git fetch seriously`)\n",
    "        end\n",
    "        try\n",
    "             run(`git checkout api`)      \n",
    "        catch e\n",
    "            run(`git checkout -b api`)\n",
    "        end\n",
    "    end\n",
    "    \n",
    "    tryto() do\n",
    "        symlink(Pkg.dir(pkg), pkg) # Symlink it here for conviencent\n",
    "    end\n",
    "end"
   ]
  },
  {
   "cell_type": "code",
   "execution_count": null,
   "metadata": {},
   "outputs": [],
   "source": [
    "setup(\"StatsBase\")"
   ]
  },
  {
   "cell_type": "code",
   "execution_count": null,
   "metadata": {},
   "outputs": [],
   "source": [
    "setup(\"LIBLINEAR\")"
   ]
  },
  {
   "cell_type": "code",
   "execution_count": 4,
   "metadata": {},
   "outputs": [
    {
     "name": "stderr",
     "output_type": "stream",
     "text": [
      "\u001b[1m\u001b[36mINFO: \u001b[39m\u001b[22m\u001b[36mCloning cache of LIBSVM from https://github.com/mpastell/LIBSVM.jl.git\n",
      "\u001b[39m\u001b[1m\u001b[36mINFO: \u001b[39m\u001b[22m\u001b[36mCloning cache of ScikitLearnBase from https://github.com/cstjean/ScikitLearnBase.jl.git\n",
      "\u001b[39m\u001b[1m\u001b[36mINFO: \u001b[39m\u001b[22m\u001b[36mInstalling LIBSVM v0.1.1\n",
      "\u001b[39m\u001b[1m\u001b[36mINFO: \u001b[39m\u001b[22m\u001b[36mInstalling ScikitLearnBase v0.3.0\n",
      "\u001b[39m"
     ]
    },
    {
     "name": "stdout",
     "output_type": "stream",
     "text": [
      "if [ \"Linux\" = \"Darwin\" ]; then \\\n",
      "\tSHARED_LIB_FLAG=\"-dynamiclib -Wl,-install_name,liblinear.so.3\"; \\\n",
      "else \\\n",
      "\tSHARED_LIB_FLAG=\"-shared -Wl,-soname,liblinear.so.3\"; \\\n",
      "fi; \\\n",
      "g++ ${SHARED_LIB_FLAG} linear.o tron.o blas/blas.a -o liblinear.so.3\n"
     ]
    },
    {
     "name": "stderr",
     "output_type": "stream",
     "text": [
      "\u001b[1m\u001b[36mINFO: \u001b[39m\u001b[22m\u001b[36mBuilding LIBLINEAR\n",
      "\u001b[39m\u001b[1m\u001b[36mINFO: \u001b[39m\u001b[22m\u001b[36mBuilding LIBSVM\n",
      "\u001b[39m"
     ]
    },
    {
     "name": "stdout",
     "output_type": "stream",
     "text": [
      "g++ -Wall -Wconversion -O3 -fPIC -c svm.cpp\n",
      "if [ \"Linux\" = \"Darwin\" ]; then \\\n",
      "\tSHARED_LIB_FLAG=\"-dynamiclib -Wl,-install_name,libsvm.so.2\"; \\\n",
      "else \\\n",
      "\tSHARED_LIB_FLAG=\"-shared -Wl,-soname,libsvm.so.2\"; \\\n",
      "fi; \\\n",
      "g++ ${SHARED_LIB_FLAG} svm.o -o libsvm.so.2\n"
     ]
    },
    {
     "name": "stderr",
     "output_type": "stream",
     "text": [
      "\u001b[1m\u001b[36mINFO: \u001b[39m\u001b[22m\u001b[36mPackage database updated\n",
      "\u001b[39mFrom github.com:JuliaTakingFittingAPIsSeriously/LIBSVM.jl\n",
      " * [new branch]      gh-pages   -> seriously/gh-pages\n",
      " * [new branch]      master     -> seriously/master\n",
      "error: pathspec 'api' did not match any file(s) known to git.\n",
      "Switched to a new branch 'api'\n"
     ]
    }
   ],
   "source": [
    "setup(\"LIBSVM\")"
   ]
  },
  {
   "cell_type": "code",
   "execution_count": null,
   "metadata": {},
   "outputs": [],
   "source": [
    "manual_clone(\"ModelingBase\")"
   ]
  },
  {
   "cell_type": "code",
   "execution_count": 1,
   "metadata": {},
   "outputs": [],
   "source": [
    "symlink(Pkg.dir(\"ModelingBase\"), \"ModelingBase\")"
   ]
  },
  {
   "cell_type": "code",
   "execution_count": null,
   "metadata": {},
   "outputs": [],
   "source": []
  }
 ],
 "metadata": {
  "kernelspec": {
   "display_name": "Julia 0.6.2",
   "language": "julia",
   "name": "julia-0.6"
  },
  "language_info": {
   "file_extension": ".jl",
   "mimetype": "application/julia",
   "name": "julia",
   "version": "0.6.2"
  }
 },
 "nbformat": 4,
 "nbformat_minor": 2
}
